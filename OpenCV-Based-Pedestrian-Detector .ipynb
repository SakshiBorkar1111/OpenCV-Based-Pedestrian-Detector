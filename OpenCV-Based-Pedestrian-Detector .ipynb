{
 "cells": [
  {
   "cell_type": "markdown",
   "id": "2bccbf51-a0a2-4297-9cd3-d90d6af583e1",
   "metadata": {},
   "source": [
    "# **Pedestrian Detection in Video using OpenCV**"
   ]
  },
  {
   "cell_type": "markdown",
   "id": "981373ca-9203-4087-a369-ca4fbae44fa4",
   "metadata": {},
   "source": [
    "### **Business Problem:**\n",
    "#### **Automating pedestrian detection in video streams is crucial for industries like surveillance, traffic management, and autonomous driving. Manual monitoring is time-consuming and error-prone. This project demonstrates a solution using OpenCV and Haar Cascade classifiers to detect pedestrians in videos, draw bounding boxes, and save annotated output, enabling faster and more accurate analysis.**"
   ]
  },
  {
   "cell_type": "code",
   "execution_count": 3,
   "id": "7435f351-bc3c-4780-b334-bba7a82523d1",
   "metadata": {},
   "outputs": [],
   "source": [
    "import cv2\n",
    "import numpy as np"
   ]
  },
  {
   "cell_type": "markdown",
   "id": "b08d28f9-fe91-4e4c-a03e-3717ce3405e7",
   "metadata": {},
   "source": [
    " #### **Load the Features**"
   ]
  },
  {
   "cell_type": "code",
   "execution_count": 5,
   "id": "d62ea53f-752f-4e36-af66-f23a784ab3a5",
   "metadata": {},
   "outputs": [],
   "source": [
    "body_classifier = cv2.CascadeClassifier(\"E:\\\\AI-ML_SB\\\\9.OpenCV\\\\Haarcascades\\\\haarcascade_fullbody.xml\")"
   ]
  },
  {
   "cell_type": "markdown",
   "id": "1d9b9a14-ea2b-4033-a038-09f9d5bd4fc4",
   "metadata": {},
   "source": [
    "#### **Initiate video capture for video file**"
   ]
  },
  {
   "cell_type": "code",
   "execution_count": 7,
   "id": "de842fc6-6b97-4c11-bbd3-25381dc57dc1",
   "metadata": {},
   "outputs": [],
   "source": [
    "cap = cv2.VideoCapture(\"E:\\\\AI-ML_SB\\\\9.OpenCV\\\\image_examples\\\\walking.avi\")\n",
    "\n",
    "if not cap.isOpened():\n",
    "    raise RuntimeError(\"Cannot open video file!\")"
   ]
  },
  {
   "cell_type": "markdown",
   "id": "dd76cb11-055f-4779-b627-091c5728afc3",
   "metadata": {},
   "source": [
    "## Detect Pedestrians Frame-by-Frame and Save Processed Video\n",
    " **This cell reads the video, detects pedestrians using Haar Cascade, draws bounding boxes, and saves the full processed video as 'pedestrian_result.mp4'.**"
   ]
  },
  {
   "cell_type": "code",
   "execution_count": 9,
   "id": "902ef1bb-d88d-407e-8113-d65f1ccb23c3",
   "metadata": {},
   "outputs": [
    {
     "name": "stdout",
     "output_type": "stream",
     "text": [
      "Video Processing Completed!\n",
      "Full processed video saved as 'pedestrian_result.avi\n"
     ]
    }
   ],
   "source": [
    "\n",
    "# Get video properties\n",
    "frame_width = int(cap.get(cv2.CAP_PROP_FRAME_WIDTH))\n",
    "frame_height = int(cap.get(cv2.CAP_PROP_FRAME_HEIGHT))\n",
    "fps = cap.get(cv2.CAP_PROP_FPS)\n",
    "\n",
    "\n",
    "# Defined VideoWriter to save processed video\n",
    "out = cv2.VideoWriter(\"E:\\\\AI-ML_SB\\\\9.OpenCV\\\\OpenCV_Output Video\\\\pedestrian_result.mp4\", \n",
    "                      cv2.VideoWriter_fourcc(*'mp4v'), fps, (frame_width, frame_height))\n",
    "\n",
    "\n",
    "# Process and save video\n",
    "while True:\n",
    "    ret, frame = cap.read()\n",
    "    if not ret or frame is None:\n",
    "        break  \n",
    "\n",
    "    gray = cv2.cvtColor(frame, cv2.COLOR_BGR2GRAY)\n",
    "    bodies = body_classifier.detectMultiScale(gray, 1.2, 3)\n",
    "\n",
    "    for (x, y, w_box, h_box) in body_classifier.detectMultiScale(gray, 1.2, 3):\n",
    "        cv2.rectangle(frame, (x, y), (x+w_box, y+h_box), (0, 255, 255), 2)\n",
    "    out.write(frame)\n",
    "\n",
    "    cv2.imshow('Pedestrians', frame)\n",
    "    if cv2.waitKey(25) & 0xFF == ord('q'):\n",
    "        break\n",
    "\n",
    "cap.release()\n",
    "out.release()\n",
    "cv2.destroyAllWindows()\n",
    "print(\"Video Processing Completed!\")\n",
    "print(\"Full processed video saved as 'pedestrian_result.avi\")\n"
   ]
  }
 ],
 "metadata": {
  "kernelspec": {
   "display_name": "Python 3 (ipykernel)",
   "language": "python",
   "name": "python3"
  },
  "language_info": {
   "codemirror_mode": {
    "name": "ipython",
    "version": 3
   },
   "file_extension": ".py",
   "mimetype": "text/x-python",
   "name": "python",
   "nbconvert_exporter": "python",
   "pygments_lexer": "ipython3",
   "version": "3.12.4"
  }
 },
 "nbformat": 4,
 "nbformat_minor": 5
}
